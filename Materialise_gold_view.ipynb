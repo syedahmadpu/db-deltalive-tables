{
 "cells": [
  {
   "cell_type": "code",
   "execution_count": 0,
   "metadata": {
    "application/vnd.databricks.v1+cell": {
     "cellMetadata": {},
     "inputWidgets": {},
     "nuid": "9ed94fbc-7b1e-47e7-b129-bd46f406a45b",
     "showTitle": false,
     "tableResultSettingsMap": {},
     "title": ""
    }
   },
   "outputs": [],
   "source": [
    "create or refresh materialized view  gold_customer_order_summary\n",
    "As\n",
    "SELECT \n",
    "  c.customer_id,\n",
    "  c.customer_name,\n",
    "  c.email,\n",
    "  c.telephone,\n",
    "  a.address_line_1,\n",
    "  a.city,\n",
    "  a.state,\n",
    "  a.postcode,\n",
    "  count(distinct o.order_id) as total_orders,\n",
    "  sum(o.item_quantity) as total_item_purchase,\n",
    "  sum(o.item_quantity * o.item_price) as total_order_amount\n",
    " From live.silver_customers c\n",
    " join live.silver_addresses a On c.customer_id = a.customer_id\n",
    " join live.silver_orders o On c.customer_id = o.customer_id\n",
    " Where a.__END_AT is null\n",
    " group by ALL;"
   ]
  }
 ],
 "metadata": {
  "application/vnd.databricks.v1+notebook": {
   "computePreferences": null,
   "dashboards": [],
   "environmentMetadata": {
    "base_environment": "",
    "environment_version": "3"
   },
   "inputWidgetPreferences": null,
   "language": "sql",
   "notebookMetadata": {
    "pythonIndentUnit": 4
   },
   "notebookName": "Materialise_gold_view",
   "widgets": {}
  },
  "language_info": {
   "name": "sql"
  }
 },
 "nbformat": 4,
 "nbformat_minor": 0
}