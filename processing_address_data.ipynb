{
 "cells": [
  {
   "cell_type": "markdown",
   "metadata": {
    "application/vnd.databricks.v1+cell": {
     "cellMetadata": {},
     "inputWidgets": {},
     "nuid": "e2aeccbe-7b60-4282-923f-6b54f207c0be",
     "showTitle": false,
     "tableResultSettingsMap": {},
     "title": ""
    }
   },
   "source": [
    "#address data processing"
   ]
  },
  {
   "cell_type": "code",
   "execution_count": 0,
   "metadata": {
    "application/vnd.databricks.v1+cell": {
     "cellMetadata": {},
     "inputWidgets": {},
     "nuid": "a75d5b72-4c58-4336-a90b-877fd040684c",
     "showTitle": false,
     "tableResultSettingsMap": {},
     "title": ""
    }
   },
   "outputs": [],
   "source": [
    "\n",
    "import dlt\n",
    "import pyspark.sql.functions as F"
   ]
  },
  {
   "cell_type": "code",
   "execution_count": 0,
   "metadata": {
    "application/vnd.databricks.v1+cell": {
     "cellMetadata": {},
     "inputWidgets": {},
     "nuid": "22051149-0b83-4f73-8774-7e7d4f58bbc4",
     "showTitle": false,
     "tableResultSettingsMap": {},
     "title": ""
    }
   },
   "outputs": [],
   "source": [
    "@dlt.table(\n",
    "        name=\"bronze_addresses\",\n",
    "        table_properties = {'QUALITY': 'bronze'},\n",
    "        comment ='RAW ADDRESS DATA INGESTED FROM THE SOURCE'\n",
    ")\n",
    "def create_bronze_addresses():\n",
    "     return (\n",
    "             spark.readStream.format(\"cloudFiles\")\n",
    "             .option(\"cloudFiles.format\", \"csv\")\n",
    "             .option(\"cloudFiles.inferColumnTypes\", \"true\")\n",
    "             .load(\"/Volumes/circuitbox/landing/operational_data/addresses\")\n",
    "             .select(\n",
    "                     \"*\",\n",
    "                     F.col(\"_metadata.file_path\").alias(\"file_path\"),\n",
    "                     F.current_timestamp().alias(\"ingest_timestam\")\n",
    "             )\n",
    "     )"
   ]
  },
  {
   "cell_type": "markdown",
   "metadata": {
    "application/vnd.databricks.v1+cell": {
     "cellMetadata": {},
     "inputWidgets": {},
     "nuid": "99b9d6d7-e469-4d68-807b-554b4bc5760a",
     "showTitle": false,
     "tableResultSettingsMap": {},
     "title": ""
    }
   },
   "source": [
    "##implemntin DLT expectation -data quality checks"
   ]
  },
  {
   "cell_type": "code",
   "execution_count": 0,
   "metadata": {
    "application/vnd.databricks.v1+cell": {
     "cellMetadata": {},
     "inputWidgets": {},
     "nuid": "1e32116d-22e0-4968-8402-eca1544bc392",
     "showTitle": false,
     "tableResultSettingsMap": {},
     "title": ""
    }
   },
   "outputs": [],
   "source": [
    "@dlt.table(\n",
    "        name=\"silver_addresses_clean\",\n",
    "        table_properties = {'QUALITY': 'seilver'},\n",
    "        comment ='RAW ADDRESS DATA INGESTED FROM THE SOURCE'\n",
    ")\n",
    "@dlt.expect_or_fail(\"valid_cutsomer_id\" , \"customer_id is not null\")\n",
    "@dlt.expect_or_drop(\"valid_address\" , \"address_line_1 is not null\")\n",
    "@dlt.expect(\"valid_postcode\" , \"LENGTH(postcode)=5\")\n",
    "\n",
    "##constraint valid_customer_id EXPECT (customer_id is not null) on violation fail update,\n",
    "def create_silver_addresses_clean():\n",
    "     return (\n",
    "             spark.readStream.table(\"LIVE.bronze_addresses\")\n",
    "             .select(\n",
    "                 \"customer_id\",\n",
    "                 \"address_line_1\",\n",
    "                 \"city\",\n",
    "                 \"state\",\n",
    "                 \"postcode\",  \n",
    "                 F.col(\"created_date\").cast(\"date\").alias(\"created_date\")    \n",
    "             )\n",
    "     )       "
   ]
  },
  {
   "cell_type": "markdown",
   "metadata": {
    "application/vnd.databricks.v1+cell": {
     "cellMetadata": {},
     "inputWidgets": {},
     "nuid": "1c5fa448-56ec-41e1-83d9-e59d5b26e372",
     "showTitle": false,
     "tableResultSettingsMap": {},
     "title": ""
    }
   },
   "source": [
    "#Apply chnages SCD type2-silver_addresses"
   ]
  },
  {
   "cell_type": "code",
   "execution_count": 0,
   "metadata": {
    "application/vnd.databricks.v1+cell": {
     "cellMetadata": {},
     "inputWidgets": {},
     "nuid": "c5917804-a9cc-49a6-8116-490f7a5bfc91",
     "showTitle": false,
     "tableResultSettingsMap": {},
     "title": ""
    }
   },
   "outputs": [],
   "source": [
    "dlt.create_streaming_table(\n",
    "        name=\"silver_addresses\",\n",
    "        table_properties = {'quality' : 'silver'},\n",
    "        comment =\"scd type 2\"\n",
    ")"
   ]
  },
  {
   "cell_type": "code",
   "execution_count": 0,
   "metadata": {
    "application/vnd.databricks.v1+cell": {
     "cellMetadata": {},
     "inputWidgets": {},
     "nuid": "66dcd074-804b-4717-ab66-e9a21cf98889",
     "showTitle": false,
     "tableResultSettingsMap": {},
     "title": ""
    }
   },
   "outputs": [],
   "source": [
    "dlt.apply_changes(\n",
    "        target = \"silver_addresses\",\n",
    "        source = \"silver_addresses_clean\",\n",
    "        keys = [\"customer_id\"],\n",
    "        sequence_by = \"created_date\",\n",
    "        stored_as_scd_type = 2\n",
    ")    "
   ]
  }
 ],
 "metadata": {
  "application/vnd.databricks.v1+notebook": {
   "computePreferences": null,
   "dashboards": [],
   "environmentMetadata": {
    "base_environment": "",
    "environment_version": "3"
   },
   "inputWidgetPreferences": null,
   "language": "python",
   "notebookMetadata": {
    "pythonIndentUnit": 4
   },
   "notebookName": "processing_address_data",
   "widgets": {}
  },
  "language_info": {
   "name": "python"
  }
 },
 "nbformat": 4,
 "nbformat_minor": 0
}